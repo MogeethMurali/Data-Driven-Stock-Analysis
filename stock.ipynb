import os
import yaml

# Define the folder containing YAML files
base_folder = "bro"

# List to store the loaded data
all_yaml_data = []

# Walk through all directories and files in the base folder
for root, dirs, files in os.walk(base_folder):
	for file in files:
		if file.endswith(".yaml"):  # Check for YAML files
			yaml_file_path = os.path.join(root, file)

			# Read and load the YAML file
			try:
				with open(yaml_file_path, "r") as f:
					yaml_data = yaml.safe_load(f)  # Load YAML file as a Python dictionary
					all_yaml_data.append(yaml_data)  # Add the data to the list
			except Exception as e:
				pass


import os
import yaml
import pandas as pd

# Define the folder containing YAML files
base_folder = "bro"
output_folder = "csv_output"

# Ensure output folder exists
os.makedirs(output_folder, exist_ok=True)

# Dictionary to store data for each symbol
data_by_symbol = {}

# Walk through all directories and files in the base folder
for root, dirs, files in os.walk(base_folder):
	for file in files:
		if file.endswith(".yaml"):  # Check for YAML files
			yaml_file_path = os.path.join(root, file)

			# Read and load the YAML file
			try:
				with open(yaml_file_path, "r") as f:
					yaml_data = yaml.safe_load(f)  # Load YAML file as a Python dictionary
					
					# Process each record in the list
					for record in yaml_data:
						ticker = record.get("Ticker")
						if ticker:
							if ticker not in data_by_symbol:
								data_by_symbol[ticker] = []
							data_by_symbol[ticker].append(record)
			except Exception as e:
				print(f"Error processing {yaml_file_path}: {e}")

# Save each symbol's data as a CSV file
for ticker, records in data_by_symbol.items():
	df = pd.DataFrame(records)
	csv_filename = os.path.join(output_folder, f"{ticker}.csv")
	df.to_csv(csv_filename, index=False)
	print(f"Saved {csv_filename}")

print("Extraction complete!")


import os
import yaml
import pandas as pd

# Define folders
base_folder = "bro"
output_folder = "csv_output"
all_csv_path = os.path.join(output_folder, "all.csv")

# Ensure output folder exists
os.makedirs(output_folder, exist_ok=True)

# Dictionary to store data for each symbol
data_by_symbol = {}

# Walk through directories and process YAML files
for root, dirs, files in os.walk(base_folder):
	for file in files:
		if file.endswith(".yaml"):  # Check for YAML files
			yaml_file_path = os.path.join(root, file)

			# Read and load the YAML file
			try:
				with open(yaml_file_path, "r") as f:
					yaml_data = yaml.safe_load(f)  # Load YAML file as a Python dictionary
					
					# Process each record in the list
					for record in yaml_data:
						ticker = record.get("Ticker")
						if ticker:
							if ticker not in data_by_symbol:
								data_by_symbol[ticker] = []
							data_by_symbol[ticker].append(record)
			except Exception as e:
				print(f"Error processing {yaml_file_path}: {e}")

# List to store DataFrames
dfs = []

# Save individual CSVs & collect data for merging
for ticker, records in data_by_symbol.items():
	df = pd.DataFrame(records)
	csv_filename = os.path.join(output_folder, f"{ticker}.csv")
	df.to_csv(csv_filename, index=False)
	print(f"Saved {csv_filename}")
	
	# Append to list for final merge
	dfs.append(df)

# Combine all into one CSV (if any data exists)
if dfs:
	combined_df = pd.concat(dfs, ignore_index=True)
	combined_df.to_csv(all_csv_path, index=False)
	print(f"Saved combined CSV: {all_csv_path}")
else:
	print("No data to combine.")

print("Extraction & merging complete!")



import os
import yaml
import pandas as pd
import mysql.connector
import numpy as np

# MySQL database credentials
db_config = {
	"host": "localhost",
	"user": "root",
	"port": 3307,
	"password": "root",
	"database": "combineddatabase"
}

# Define the folder containing YAML files
base_folder = "bro"

# List to store all records
all_records = []

# Walk through all directories and files in the base folder
for root, dirs, files in os.walk(base_folder):
	for file in files:
		if file.endswith(".yaml"):
			yaml_file_path = os.path.join(root, file)
		try:
			with open(yaml_file_path, "r") as f:
				yaml_data = yaml.safe_load(f)
				if isinstance(yaml_data, list):
					for record in yaml_data:
						for col in ["date", "Ticker", "close", "high", "low", "month", "open", "volume"]:
							if col not in record:
								record[col] = None
						all_records.append(record)
		except Exception as e:
			print(f"Error processing {yaml_file_path}: {e}")

if all_records:
	df = pd.DataFrame(all_records)
	for col in ['date', 'close', 'high', 'low', 'open', 'volume']:
		df[col] = pd.to_numeric(df[col], errors='coerce') if col != 'date' else pd.to_datetime(df[col], errors='coerce')
	df.dropna(subset=['date', 'close', 'Ticker'], inplace=True)
	df.sort_values(by=['Ticker', 'date'], inplace=True)
	df['Daily Return'] = df.groupby('Ticker')['close'].pct_change().fillna(0)
	df['Volatility'] = df.groupby('Ticker')['Daily Return'].transform('std').fillna(0)
	df['Cumulative Return'] = df.groupby('Ticker')['Daily Return'].cumsum().fillna(0)

	try:
		conn = mysql.connector.connect(**db_config)
		cursor = conn.cursor()

		cursor.execute("DROP TABLE IF EXISTS stock_data;") # Drop the table.
		conn.commit()

		table_name = "stock_data"
		column_definitions = """
			id INT AUTO_INCREMENT PRIMARY KEY,
			Ticker TEXT,
			date DATE,
			close FLOAT,
			high FLOAT,
			low FLOAT,
			month TEXT,
			open FLOAT,
			volume BIGINT,
			`Daily Return` FLOAT,
			Volatility FLOAT,
			`Cumulative Return` FLOAT
		"""
		create_table_query = f"CREATE TABLE IF NOT EXISTS {table_name} ({column_definitions});"
		cursor.execute(create_table_query)
		insert_query = f"""
			INSERT INTO {table_name} 
			(Ticker, date, close, high, low, month, open, volume, `Daily Return`, Volatility, `Cumulative Return`)
			VALUES (%s, %s, %s, %s, %s, %s, %s, %s, %s, %s, %s)
		"""
		cursor.executemany(insert_query, df[['Ticker', 'date', 'close', 'high', 'low', 'month', 'open', 'volume', 'Daily Return', 'Volatility', 'Cumulative Return']].values.tolist())
		conn.commit()
		cursor.close()
		conn.close()
		print(f"✅ Inserted {len(df)} records into MySQL table '{table_name}'.")
	except mysql.connector.Error as err:
		print(f"❌ Error connecting to or interacting with MySQL: {err}")
	except Exception as e:
		print(f"❌ An unexpected error occurred: {e}")
else:
	print("❌ No valid data found in YAML files.")
